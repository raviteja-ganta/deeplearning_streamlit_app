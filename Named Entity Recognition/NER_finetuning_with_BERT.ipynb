{
  "nbformat": 4,
  "nbformat_minor": 0,
  "metadata": {
    "colab": {
      "name": "NER finetuning with BERT.ipynb",
      "provenance": [],
      "collapsed_sections": []
    },
    "kernelspec": {
      "name": "python3",
      "display_name": "Python 3"
    },
    "widgets": {
      "application/vnd.jupyter.widget-state+json": {
        "f6da0a8c4c62452da6f034c95a7dcc3e": {
          "model_module": "@jupyter-widgets/controls",
          "model_name": "HBoxModel",
          "state": {
            "_view_name": "HBoxView",
            "_dom_classes": [],
            "_model_name": "HBoxModel",
            "_view_module": "@jupyter-widgets/controls",
            "_model_module_version": "1.5.0",
            "_view_count": null,
            "_view_module_version": "1.5.0",
            "box_style": "",
            "layout": "IPY_MODEL_51628728c8f84b628eb75bf2e39e96da",
            "_model_module": "@jupyter-widgets/controls",
            "children": [
              "IPY_MODEL_04b250a62d2d4a1eb4b018653ccdbe06",
              "IPY_MODEL_dfd61403a6e64cc5b87f59321bf93b28"
            ]
          },
          "model_module_version": "1.5.0"
        },
        "51628728c8f84b628eb75bf2e39e96da": {
          "model_module": "@jupyter-widgets/base",
          "model_name": "LayoutModel",
          "state": {
            "_view_name": "LayoutView",
            "grid_template_rows": null,
            "right": null,
            "justify_content": null,
            "_view_module": "@jupyter-widgets/base",
            "overflow": null,
            "_model_module_version": "1.2.0",
            "_view_count": null,
            "flex_flow": null,
            "width": null,
            "min_width": null,
            "border": null,
            "align_items": null,
            "bottom": null,
            "_model_module": "@jupyter-widgets/base",
            "top": null,
            "grid_column": null,
            "overflow_y": null,
            "overflow_x": null,
            "grid_auto_flow": null,
            "grid_area": null,
            "grid_template_columns": null,
            "flex": null,
            "_model_name": "LayoutModel",
            "justify_items": null,
            "grid_row": null,
            "max_height": null,
            "align_content": null,
            "visibility": null,
            "align_self": null,
            "height": null,
            "min_height": null,
            "padding": null,
            "grid_auto_rows": null,
            "grid_gap": null,
            "max_width": null,
            "order": null,
            "_view_module_version": "1.2.0",
            "grid_template_areas": null,
            "object_position": null,
            "object_fit": null,
            "grid_auto_columns": null,
            "margin": null,
            "display": null,
            "left": null
          },
          "model_module_version": "1.2.0"
        },
        "04b250a62d2d4a1eb4b018653ccdbe06": {
          "model_module": "@jupyter-widgets/controls",
          "model_name": "FloatProgressModel",
          "state": {
            "_view_name": "ProgressView",
            "style": "IPY_MODEL_eedf0bc7163847909a89502c4211c2b1",
            "_dom_classes": [],
            "description": "Downloading: 100%",
            "_model_name": "FloatProgressModel",
            "bar_style": "success",
            "max": 213450,
            "_view_module": "@jupyter-widgets/controls",
            "_model_module_version": "1.5.0",
            "value": 213450,
            "_view_count": null,
            "_view_module_version": "1.5.0",
            "orientation": "horizontal",
            "min": 0,
            "description_tooltip": null,
            "_model_module": "@jupyter-widgets/controls",
            "layout": "IPY_MODEL_3ddb94be058b4ae98e6f45853144b2fe"
          },
          "model_module_version": "1.5.0"
        },
        "dfd61403a6e64cc5b87f59321bf93b28": {
          "model_module": "@jupyter-widgets/controls",
          "model_name": "HTMLModel",
          "state": {
            "_view_name": "HTMLView",
            "style": "IPY_MODEL_e4df396994d64c029b7e3991249bcdfa",
            "_dom_classes": [],
            "description": "",
            "_model_name": "HTMLModel",
            "placeholder": "​",
            "_view_module": "@jupyter-widgets/controls",
            "_model_module_version": "1.5.0",
            "value": " 213k/213k [00:00&lt;00:00, 852kB/s]",
            "_view_count": null,
            "_view_module_version": "1.5.0",
            "description_tooltip": null,
            "_model_module": "@jupyter-widgets/controls",
            "layout": "IPY_MODEL_325f671460fd427d8ac66671a4b86abf"
          },
          "model_module_version": "1.5.0"
        },
        "eedf0bc7163847909a89502c4211c2b1": {
          "model_module": "@jupyter-widgets/controls",
          "model_name": "ProgressStyleModel",
          "state": {
            "_view_name": "StyleView",
            "_model_name": "ProgressStyleModel",
            "description_width": "initial",
            "_view_module": "@jupyter-widgets/base",
            "_model_module_version": "1.5.0",
            "_view_count": null,
            "_view_module_version": "1.2.0",
            "bar_color": null,
            "_model_module": "@jupyter-widgets/controls"
          },
          "model_module_version": "1.5.0"
        },
        "3ddb94be058b4ae98e6f45853144b2fe": {
          "model_module": "@jupyter-widgets/base",
          "model_name": "LayoutModel",
          "state": {
            "_view_name": "LayoutView",
            "grid_template_rows": null,
            "right": null,
            "justify_content": null,
            "_view_module": "@jupyter-widgets/base",
            "overflow": null,
            "_model_module_version": "1.2.0",
            "_view_count": null,
            "flex_flow": null,
            "width": null,
            "min_width": null,
            "border": null,
            "align_items": null,
            "bottom": null,
            "_model_module": "@jupyter-widgets/base",
            "top": null,
            "grid_column": null,
            "overflow_y": null,
            "overflow_x": null,
            "grid_auto_flow": null,
            "grid_area": null,
            "grid_template_columns": null,
            "flex": null,
            "_model_name": "LayoutModel",
            "justify_items": null,
            "grid_row": null,
            "max_height": null,
            "align_content": null,
            "visibility": null,
            "align_self": null,
            "height": null,
            "min_height": null,
            "padding": null,
            "grid_auto_rows": null,
            "grid_gap": null,
            "max_width": null,
            "order": null,
            "_view_module_version": "1.2.0",
            "grid_template_areas": null,
            "object_position": null,
            "object_fit": null,
            "grid_auto_columns": null,
            "margin": null,
            "display": null,
            "left": null
          },
          "model_module_version": "1.2.0"
        },
        "e4df396994d64c029b7e3991249bcdfa": {
          "model_module": "@jupyter-widgets/controls",
          "model_name": "DescriptionStyleModel",
          "state": {
            "_view_name": "StyleView",
            "_model_name": "DescriptionStyleModel",
            "description_width": "",
            "_view_module": "@jupyter-widgets/base",
            "_model_module_version": "1.5.0",
            "_view_count": null,
            "_view_module_version": "1.2.0",
            "_model_module": "@jupyter-widgets/controls"
          },
          "model_module_version": "1.5.0"
        },
        "325f671460fd427d8ac66671a4b86abf": {
          "model_module": "@jupyter-widgets/base",
          "model_name": "LayoutModel",
          "state": {
            "_view_name": "LayoutView",
            "grid_template_rows": null,
            "right": null,
            "justify_content": null,
            "_view_module": "@jupyter-widgets/base",
            "overflow": null,
            "_model_module_version": "1.2.0",
            "_view_count": null,
            "flex_flow": null,
            "width": null,
            "min_width": null,
            "border": null,
            "align_items": null,
            "bottom": null,
            "_model_module": "@jupyter-widgets/base",
            "top": null,
            "grid_column": null,
            "overflow_y": null,
            "overflow_x": null,
            "grid_auto_flow": null,
            "grid_area": null,
            "grid_template_columns": null,
            "flex": null,
            "_model_name": "LayoutModel",
            "justify_items": null,
            "grid_row": null,
            "max_height": null,
            "align_content": null,
            "visibility": null,
            "align_self": null,
            "height": null,
            "min_height": null,
            "padding": null,
            "grid_auto_rows": null,
            "grid_gap": null,
            "max_width": null,
            "order": null,
            "_view_module_version": "1.2.0",
            "grid_template_areas": null,
            "object_position": null,
            "object_fit": null,
            "grid_auto_columns": null,
            "margin": null,
            "display": null,
            "left": null
          },
          "model_module_version": "1.2.0"
        },
        "62cd0f32b51f4fa0a47c9579fd257d0a": {
          "model_module": "@jupyter-widgets/controls",
          "model_name": "HBoxModel",
          "state": {
            "_view_name": "HBoxView",
            "_dom_classes": [],
            "_model_name": "HBoxModel",
            "_view_module": "@jupyter-widgets/controls",
            "_model_module_version": "1.5.0",
            "_view_count": null,
            "_view_module_version": "1.5.0",
            "box_style": "",
            "layout": "IPY_MODEL_b88f16bc8b0c44758c03af157c17695c",
            "_model_module": "@jupyter-widgets/controls",
            "children": [
              "IPY_MODEL_c8d8ebc17ff54059a0fb677b03648ddd",
              "IPY_MODEL_072e111f261246658022564074c065e9"
            ]
          },
          "model_module_version": "1.5.0"
        },
        "b88f16bc8b0c44758c03af157c17695c": {
          "model_module": "@jupyter-widgets/base",
          "model_name": "LayoutModel",
          "state": {
            "_view_name": "LayoutView",
            "grid_template_rows": null,
            "right": null,
            "justify_content": null,
            "_view_module": "@jupyter-widgets/base",
            "overflow": null,
            "_model_module_version": "1.2.0",
            "_view_count": null,
            "flex_flow": null,
            "width": null,
            "min_width": null,
            "border": null,
            "align_items": null,
            "bottom": null,
            "_model_module": "@jupyter-widgets/base",
            "top": null,
            "grid_column": null,
            "overflow_y": null,
            "overflow_x": null,
            "grid_auto_flow": null,
            "grid_area": null,
            "grid_template_columns": null,
            "flex": null,
            "_model_name": "LayoutModel",
            "justify_items": null,
            "grid_row": null,
            "max_height": null,
            "align_content": null,
            "visibility": null,
            "align_self": null,
            "height": null,
            "min_height": null,
            "padding": null,
            "grid_auto_rows": null,
            "grid_gap": null,
            "max_width": null,
            "order": null,
            "_view_module_version": "1.2.0",
            "grid_template_areas": null,
            "object_position": null,
            "object_fit": null,
            "grid_auto_columns": null,
            "margin": null,
            "display": null,
            "left": null
          },
          "model_module_version": "1.2.0"
        },
        "c8d8ebc17ff54059a0fb677b03648ddd": {
          "model_module": "@jupyter-widgets/controls",
          "model_name": "FloatProgressModel",
          "state": {
            "_view_name": "ProgressView",
            "style": "IPY_MODEL_5dbc5803d6b84d2392acec456b4b46ea",
            "_dom_classes": [],
            "description": "Downloading: 100%",
            "_model_name": "FloatProgressModel",
            "bar_style": "success",
            "max": 433,
            "_view_module": "@jupyter-widgets/controls",
            "_model_module_version": "1.5.0",
            "value": 433,
            "_view_count": null,
            "_view_module_version": "1.5.0",
            "orientation": "horizontal",
            "min": 0,
            "description_tooltip": null,
            "_model_module": "@jupyter-widgets/controls",
            "layout": "IPY_MODEL_90334990b03e4c74b50f36b9df7f7d6f"
          },
          "model_module_version": "1.5.0"
        },
        "072e111f261246658022564074c065e9": {
          "model_module": "@jupyter-widgets/controls",
          "model_name": "HTMLModel",
          "state": {
            "_view_name": "HTMLView",
            "style": "IPY_MODEL_0216748a598c4cf182f744fb15ea79f6",
            "_dom_classes": [],
            "description": "",
            "_model_name": "HTMLModel",
            "placeholder": "​",
            "_view_module": "@jupyter-widgets/controls",
            "_model_module_version": "1.5.0",
            "value": " 433/433 [00:00&lt;00:00, 1.16kB/s]",
            "_view_count": null,
            "_view_module_version": "1.5.0",
            "description_tooltip": null,
            "_model_module": "@jupyter-widgets/controls",
            "layout": "IPY_MODEL_8ab91bb3ed6f4f51bf33a2b58bb6a813"
          },
          "model_module_version": "1.5.0"
        },
        "5dbc5803d6b84d2392acec456b4b46ea": {
          "model_module": "@jupyter-widgets/controls",
          "model_name": "ProgressStyleModel",
          "state": {
            "_view_name": "StyleView",
            "_model_name": "ProgressStyleModel",
            "description_width": "initial",
            "_view_module": "@jupyter-widgets/base",
            "_model_module_version": "1.5.0",
            "_view_count": null,
            "_view_module_version": "1.2.0",
            "bar_color": null,
            "_model_module": "@jupyter-widgets/controls"
          },
          "model_module_version": "1.5.0"
        },
        "90334990b03e4c74b50f36b9df7f7d6f": {
          "model_module": "@jupyter-widgets/base",
          "model_name": "LayoutModel",
          "state": {
            "_view_name": "LayoutView",
            "grid_template_rows": null,
            "right": null,
            "justify_content": null,
            "_view_module": "@jupyter-widgets/base",
            "overflow": null,
            "_model_module_version": "1.2.0",
            "_view_count": null,
            "flex_flow": null,
            "width": null,
            "min_width": null,
            "border": null,
            "align_items": null,
            "bottom": null,
            "_model_module": "@jupyter-widgets/base",
            "top": null,
            "grid_column": null,
            "overflow_y": null,
            "overflow_x": null,
            "grid_auto_flow": null,
            "grid_area": null,
            "grid_template_columns": null,
            "flex": null,
            "_model_name": "LayoutModel",
            "justify_items": null,
            "grid_row": null,
            "max_height": null,
            "align_content": null,
            "visibility": null,
            "align_self": null,
            "height": null,
            "min_height": null,
            "padding": null,
            "grid_auto_rows": null,
            "grid_gap": null,
            "max_width": null,
            "order": null,
            "_view_module_version": "1.2.0",
            "grid_template_areas": null,
            "object_position": null,
            "object_fit": null,
            "grid_auto_columns": null,
            "margin": null,
            "display": null,
            "left": null
          },
          "model_module_version": "1.2.0"
        },
        "0216748a598c4cf182f744fb15ea79f6": {
          "model_module": "@jupyter-widgets/controls",
          "model_name": "DescriptionStyleModel",
          "state": {
            "_view_name": "StyleView",
            "_model_name": "DescriptionStyleModel",
            "description_width": "",
            "_view_module": "@jupyter-widgets/base",
            "_model_module_version": "1.5.0",
            "_view_count": null,
            "_view_module_version": "1.2.0",
            "_model_module": "@jupyter-widgets/controls"
          },
          "model_module_version": "1.5.0"
        },
        "8ab91bb3ed6f4f51bf33a2b58bb6a813": {
          "model_module": "@jupyter-widgets/base",
          "model_name": "LayoutModel",
          "state": {
            "_view_name": "LayoutView",
            "grid_template_rows": null,
            "right": null,
            "justify_content": null,
            "_view_module": "@jupyter-widgets/base",
            "overflow": null,
            "_model_module_version": "1.2.0",
            "_view_count": null,
            "flex_flow": null,
            "width": null,
            "min_width": null,
            "border": null,
            "align_items": null,
            "bottom": null,
            "_model_module": "@jupyter-widgets/base",
            "top": null,
            "grid_column": null,
            "overflow_y": null,
            "overflow_x": null,
            "grid_auto_flow": null,
            "grid_area": null,
            "grid_template_columns": null,
            "flex": null,
            "_model_name": "LayoutModel",
            "justify_items": null,
            "grid_row": null,
            "max_height": null,
            "align_content": null,
            "visibility": null,
            "align_self": null,
            "height": null,
            "min_height": null,
            "padding": null,
            "grid_auto_rows": null,
            "grid_gap": null,
            "max_width": null,
            "order": null,
            "_view_module_version": "1.2.0",
            "grid_template_areas": null,
            "object_position": null,
            "object_fit": null,
            "grid_auto_columns": null,
            "margin": null,
            "display": null,
            "left": null
          },
          "model_module_version": "1.2.0"
        },
        "55bcaf0ad89046a7ab642298e5ec7c65": {
          "model_module": "@jupyter-widgets/controls",
          "model_name": "HBoxModel",
          "state": {
            "_view_name": "HBoxView",
            "_dom_classes": [],
            "_model_name": "HBoxModel",
            "_view_module": "@jupyter-widgets/controls",
            "_model_module_version": "1.5.0",
            "_view_count": null,
            "_view_module_version": "1.5.0",
            "box_style": "",
            "layout": "IPY_MODEL_b4c359b7ce0147d1991b1213423a80bb",
            "_model_module": "@jupyter-widgets/controls",
            "children": [
              "IPY_MODEL_702411de5dff49909df7d2797566825a",
              "IPY_MODEL_7f38fba49229455f91f3ffc91237cae3"
            ]
          },
          "model_module_version": "1.5.0"
        },
        "b4c359b7ce0147d1991b1213423a80bb": {
          "model_module": "@jupyter-widgets/base",
          "model_name": "LayoutModel",
          "state": {
            "_view_name": "LayoutView",
            "grid_template_rows": null,
            "right": null,
            "justify_content": null,
            "_view_module": "@jupyter-widgets/base",
            "overflow": null,
            "_model_module_version": "1.2.0",
            "_view_count": null,
            "flex_flow": null,
            "width": null,
            "min_width": null,
            "border": null,
            "align_items": null,
            "bottom": null,
            "_model_module": "@jupyter-widgets/base",
            "top": null,
            "grid_column": null,
            "overflow_y": null,
            "overflow_x": null,
            "grid_auto_flow": null,
            "grid_area": null,
            "grid_template_columns": null,
            "flex": null,
            "_model_name": "LayoutModel",
            "justify_items": null,
            "grid_row": null,
            "max_height": null,
            "align_content": null,
            "visibility": null,
            "align_self": null,
            "height": null,
            "min_height": null,
            "padding": null,
            "grid_auto_rows": null,
            "grid_gap": null,
            "max_width": null,
            "order": null,
            "_view_module_version": "1.2.0",
            "grid_template_areas": null,
            "object_position": null,
            "object_fit": null,
            "grid_auto_columns": null,
            "margin": null,
            "display": null,
            "left": null
          },
          "model_module_version": "1.2.0"
        },
        "702411de5dff49909df7d2797566825a": {
          "model_module": "@jupyter-widgets/controls",
          "model_name": "FloatProgressModel",
          "state": {
            "_view_name": "ProgressView",
            "style": "IPY_MODEL_a1d4915f4f2c45d5963444fd1e3c2f30",
            "_dom_classes": [],
            "description": "Downloading: 100%",
            "_model_name": "FloatProgressModel",
            "bar_style": "success",
            "max": 435779157,
            "_view_module": "@jupyter-widgets/controls",
            "_model_module_version": "1.5.0",
            "value": 435779157,
            "_view_count": null,
            "_view_module_version": "1.5.0",
            "orientation": "horizontal",
            "min": 0,
            "description_tooltip": null,
            "_model_module": "@jupyter-widgets/controls",
            "layout": "IPY_MODEL_29a3793ca4e441cdb25ff46493d59a51"
          },
          "model_module_version": "1.5.0"
        },
        "7f38fba49229455f91f3ffc91237cae3": {
          "model_module": "@jupyter-widgets/controls",
          "model_name": "HTMLModel",
          "state": {
            "_view_name": "HTMLView",
            "style": "IPY_MODEL_77cebd0e8bc7450fb1243b18583619de",
            "_dom_classes": [],
            "description": "",
            "_model_name": "HTMLModel",
            "placeholder": "​",
            "_view_module": "@jupyter-widgets/controls",
            "_model_module_version": "1.5.0",
            "value": " 436M/436M [00:38&lt;00:00, 11.4MB/s]",
            "_view_count": null,
            "_view_module_version": "1.5.0",
            "description_tooltip": null,
            "_model_module": "@jupyter-widgets/controls",
            "layout": "IPY_MODEL_69b0c5ccddb649db981e59df31b2acaa"
          },
          "model_module_version": "1.5.0"
        },
        "a1d4915f4f2c45d5963444fd1e3c2f30": {
          "model_module": "@jupyter-widgets/controls",
          "model_name": "ProgressStyleModel",
          "state": {
            "_view_name": "StyleView",
            "_model_name": "ProgressStyleModel",
            "description_width": "initial",
            "_view_module": "@jupyter-widgets/base",
            "_model_module_version": "1.5.0",
            "_view_count": null,
            "_view_module_version": "1.2.0",
            "bar_color": null,
            "_model_module": "@jupyter-widgets/controls"
          },
          "model_module_version": "1.5.0"
        },
        "29a3793ca4e441cdb25ff46493d59a51": {
          "model_module": "@jupyter-widgets/base",
          "model_name": "LayoutModel",
          "state": {
            "_view_name": "LayoutView",
            "grid_template_rows": null,
            "right": null,
            "justify_content": null,
            "_view_module": "@jupyter-widgets/base",
            "overflow": null,
            "_model_module_version": "1.2.0",
            "_view_count": null,
            "flex_flow": null,
            "width": null,
            "min_width": null,
            "border": null,
            "align_items": null,
            "bottom": null,
            "_model_module": "@jupyter-widgets/base",
            "top": null,
            "grid_column": null,
            "overflow_y": null,
            "overflow_x": null,
            "grid_auto_flow": null,
            "grid_area": null,
            "grid_template_columns": null,
            "flex": null,
            "_model_name": "LayoutModel",
            "justify_items": null,
            "grid_row": null,
            "max_height": null,
            "align_content": null,
            "visibility": null,
            "align_self": null,
            "height": null,
            "min_height": null,
            "padding": null,
            "grid_auto_rows": null,
            "grid_gap": null,
            "max_width": null,
            "order": null,
            "_view_module_version": "1.2.0",
            "grid_template_areas": null,
            "object_position": null,
            "object_fit": null,
            "grid_auto_columns": null,
            "margin": null,
            "display": null,
            "left": null
          },
          "model_module_version": "1.2.0"
        },
        "77cebd0e8bc7450fb1243b18583619de": {
          "model_module": "@jupyter-widgets/controls",
          "model_name": "DescriptionStyleModel",
          "state": {
            "_view_name": "StyleView",
            "_model_name": "DescriptionStyleModel",
            "description_width": "",
            "_view_module": "@jupyter-widgets/base",
            "_model_module_version": "1.5.0",
            "_view_count": null,
            "_view_module_version": "1.2.0",
            "_model_module": "@jupyter-widgets/controls"
          },
          "model_module_version": "1.5.0"
        },
        "69b0c5ccddb649db981e59df31b2acaa": {
          "model_module": "@jupyter-widgets/base",
          "model_name": "LayoutModel",
          "state": {
            "_view_name": "LayoutView",
            "grid_template_rows": null,
            "right": null,
            "justify_content": null,
            "_view_module": "@jupyter-widgets/base",
            "overflow": null,
            "_model_module_version": "1.2.0",
            "_view_count": null,
            "flex_flow": null,
            "width": null,
            "min_width": null,
            "border": null,
            "align_items": null,
            "bottom": null,
            "_model_module": "@jupyter-widgets/base",
            "top": null,
            "grid_column": null,
            "overflow_y": null,
            "overflow_x": null,
            "grid_auto_flow": null,
            "grid_area": null,
            "grid_template_columns": null,
            "flex": null,
            "_model_name": "LayoutModel",
            "justify_items": null,
            "grid_row": null,
            "max_height": null,
            "align_content": null,
            "visibility": null,
            "align_self": null,
            "height": null,
            "min_height": null,
            "padding": null,
            "grid_auto_rows": null,
            "grid_gap": null,
            "max_width": null,
            "order": null,
            "_view_module_version": "1.2.0",
            "grid_template_areas": null,
            "object_position": null,
            "object_fit": null,
            "grid_auto_columns": null,
            "margin": null,
            "display": null,
            "left": null
          },
          "model_module_version": "1.2.0"
        }
      }
    }
  },
  "cells": [
    {
      "cell_type": "code",
      "metadata": {
        "id": "YNKHTtyM_cK-",
        "colab": {
          "base_uri": "https://localhost:8080/"
        },
        "outputId": "7960699f-1542-42ff-ab50-8f97da24ba21"
      },
      "source": [
        "from google.colab import drive\n",
        "\n",
        "drive.mount('/content/drive')\n"
      ],
      "execution_count": null,
      "outputs": [
        {
          "output_type": "stream",
          "text": [
            "Mounted at /content/drive\n"
          ],
          "name": "stdout"
        }
      ]
    },
    {
      "cell_type": "code",
      "metadata": {
        "id": "0FWGcdPzFtsC",
        "colab": {
          "base_uri": "https://localhost:8080/"
        },
        "outputId": "2496aafd-a575-4d53-91f7-b5efc43bc9f6"
      },
      "source": [
        "!pip install -qq transformers"
      ],
      "execution_count": null,
      "outputs": [
        {
          "output_type": "stream",
          "text": [
            "\u001b[K     |████████████████████████████████| 1.3MB 9.1MB/s \n",
            "\u001b[K     |████████████████████████████████| 2.9MB 29.2MB/s \n",
            "\u001b[K     |████████████████████████████████| 1.1MB 50.4MB/s \n",
            "\u001b[K     |████████████████████████████████| 890kB 53.4MB/s \n",
            "\u001b[?25h  Building wheel for sacremoses (setup.py) ... \u001b[?25l\u001b[?25hdone\n"
          ],
          "name": "stdout"
        }
      ]
    },
    {
      "cell_type": "code",
      "metadata": {
        "id": "jY5GyAtO6tLW",
        "colab": {
          "base_uri": "https://localhost:8080/"
        },
        "outputId": "20f4974e-227e-4ed8-de0e-5edb79c70020"
      },
      "source": [
        "!pip install seqeval"
      ],
      "execution_count": null,
      "outputs": [
        {
          "output_type": "stream",
          "text": [
            "Collecting seqeval\n",
            "\u001b[?25l  Downloading https://files.pythonhosted.org/packages/9d/2d/233c79d5b4e5ab1dbf111242299153f3caddddbb691219f363ad55ce783d/seqeval-1.2.2.tar.gz (43kB)\n",
            "\r\u001b[K     |███████▌                        | 10kB 22.8MB/s eta 0:00:01\r\u001b[K     |███████████████                 | 20kB 28.6MB/s eta 0:00:01\r\u001b[K     |██████████████████████▌         | 30kB 15.8MB/s eta 0:00:01\r\u001b[K     |██████████████████████████████  | 40kB 11.3MB/s eta 0:00:01\r\u001b[K     |████████████████████████████████| 51kB 4.4MB/s \n",
            "\u001b[?25hRequirement already satisfied: numpy>=1.14.0 in /usr/local/lib/python3.6/dist-packages (from seqeval) (1.18.5)\n",
            "Requirement already satisfied: scikit-learn>=0.21.3 in /usr/local/lib/python3.6/dist-packages (from seqeval) (0.22.2.post1)\n",
            "Requirement already satisfied: scipy>=0.17.0 in /usr/local/lib/python3.6/dist-packages (from scikit-learn>=0.21.3->seqeval) (1.4.1)\n",
            "Requirement already satisfied: joblib>=0.11 in /usr/local/lib/python3.6/dist-packages (from scikit-learn>=0.21.3->seqeval) (0.17.0)\n",
            "Building wheels for collected packages: seqeval\n",
            "  Building wheel for seqeval (setup.py) ... \u001b[?25l\u001b[?25hdone\n",
            "  Created wheel for seqeval: filename=seqeval-1.2.2-cp36-none-any.whl size=16171 sha256=30cdd0fd7668eaa5d21e694b2b660fe5da276c01ffa9b056971f76e2d00ab9ef\n",
            "  Stored in directory: /root/.cache/pip/wheels/52/df/1b/45d75646c37428f7e626214704a0e35bd3cfc32eda37e59e5f\n",
            "Successfully built seqeval\n",
            "Installing collected packages: seqeval\n",
            "Successfully installed seqeval-1.2.2\n"
          ],
          "name": "stdout"
        }
      ]
    },
    {
      "cell_type": "code",
      "metadata": {
        "id": "skdaDzsfD0Cg",
        "colab": {
          "base_uri": "https://localhost:8080/",
          "height": 35
        },
        "outputId": "e5f7a0aa-daa3-4647-904c-a27ea900285a"
      },
      "source": [
        "import numpy as np\n",
        "import pandas as pd\n",
        "\n",
        "import torch\n",
        "from torch.utils.data import TensorDataset, DataLoader, RandomSampler, SequentialSampler\n",
        "from transformers import BertTokenizer, BertConfig\n",
        "\n",
        "from keras.preprocessing.sequence import pad_sequences\n",
        "\n",
        "import seaborn as sns\n",
        "import matplotlib.pyplot as plt\n",
        "\n",
        "import torch\n",
        "\n",
        "from torch import nn, optim\n",
        "from torch.utils.data import Dataset, DataLoader\n",
        "\n",
        "import transformers\n",
        "from transformers import BertForTokenClassification, AdamW, get_linear_schedule_with_warmup\n",
        "\n",
        "from seqeval.metrics import f1_score, accuracy_score\n",
        "\n",
        "from collections import defaultdict\n",
        "from pylab import rcParams\n",
        "\n",
        "%matplotlib inline\n",
        "%config InlineBackend.figure_format='retina'\n",
        "sns.set(style='whitegrid', palette='muted', font_scale=1.2)\n",
        "HAPPY_COLORS_PALETTE = [\"#01BEFE\", \"#FFDD00\", \"#FF7D00\", \"#FF006D\", \"#ADFF02\", \"#8F00FF\"]\n",
        "sns.set_palette(sns.color_palette(HAPPY_COLORS_PALETTE))\n",
        "rcParams['figure.figsize'] = 12, 8\n",
        "RANDOM_SEED = 42\n",
        "np.random.seed(RANDOM_SEED)\n",
        "torch.manual_seed(RANDOM_SEED)\n",
        "\n",
        "transformers.__version__"
      ],
      "execution_count": null,
      "outputs": [
        {
          "output_type": "execute_result",
          "data": {
            "application/vnd.google.colaboratory.intrinsic+json": {
              "type": "string"
            },
            "text/plain": [
              "'3.5.1'"
            ]
          },
          "metadata": {
            "tags": []
          },
          "execution_count": 4
        }
      ]
    },
    {
      "cell_type": "code",
      "metadata": {
        "id": "B0_ozmp4D2PD",
        "colab": {
          "base_uri": "https://localhost:8080/",
          "height": 35
        },
        "outputId": "4fb1538e-40c1-4615-8c62-beac162df040"
      },
      "source": [
        "device = torch.device(\"cuda\" if torch.cuda.is_available() else \"cpu\")\n",
        "n_gpu = torch.cuda.device_count()\n",
        "\n",
        "torch.cuda.get_device_name(0)\n"
      ],
      "execution_count": null,
      "outputs": [
        {
          "output_type": "execute_result",
          "data": {
            "application/vnd.google.colaboratory.intrinsic+json": {
              "type": "string"
            },
            "text/plain": [
              "'Tesla T4'"
            ]
          },
          "metadata": {
            "tags": []
          },
          "execution_count": 5
        }
      ]
    },
    {
      "cell_type": "code",
      "metadata": {
        "id": "Z5XfWRuN93Is"
      },
      "source": [
        "# function to load data\n",
        "\n",
        "def get_params(sentences_file, labels_file):\n",
        "    sentences = []\n",
        "    labels = []\n",
        "\n",
        "    with open(sentences_file) as f:\n",
        "        for sentence in f.read().splitlines():\n",
        "            # # replace each token by its index if it is in vocab\n",
        "            # # else use index of UNK_WORD\n",
        "            # s = [vocab[token] if token in vocab \n",
        "            #      else vocab['UNK']\n",
        "            #      for token in sentence.split(' ')]\n",
        "            sentence = sentence.split(' ')\n",
        "            sentences.append(sentence)\n",
        "\n",
        "    with open(labels_file) as f:\n",
        "        for label in f.read().splitlines():\n",
        "            # # replace each label by its index\n",
        "            # l = [tag_map[label] for label in sentence.split(' ')] # I added plus 1 here\n",
        "            label = label.split(' ')\n",
        "            labels.append(label) \n",
        "    return sentences, labels, len(sentences)\n"
      ],
      "execution_count": null,
      "outputs": []
    },
    {
      "cell_type": "code",
      "metadata": {
        "id": "xf00oyQz-dqS"
      },
      "source": [
        "# Load training/validation/test data\n",
        "path1 = \"/content/drive/My Drive/NER Training data/sentences.txt\"\n",
        "path2 = \"/content/drive/My Drive/NER Training data/labels.txt\"\n",
        "\n",
        "train_sentences, train_labels, train_len = get_params(path1,path2)\n",
        "\n",
        "path1 = \"/content/drive/My Drive/NER Validation data/sentences.txt\"\n",
        "path2 = \"/content/drive/My Drive/NER Validation data/labels.txt\"\n",
        "\n",
        "valid_sentences, valid_labels, valid_len = get_params(path1,path2)\n",
        "\n",
        "path1 = \"/content/drive/My Drive/NER Test data/sentences.txt\"\n",
        "path2 = \"/content/drive/My Drive/NER Test data/labels.txt\"\n",
        "\n",
        "test_sentences, test_labels, test_len = get_params(path1,path2)\n",
        "\n"
      ],
      "execution_count": null,
      "outputs": []
    },
    {
      "cell_type": "code",
      "metadata": {
        "id": "XVYCBnoxXquE"
      },
      "source": [
        "# Create a dictionary for tags\n",
        "\n",
        "path = \"/content/drive/My Drive/NER Training data/tags.txt\"\n",
        "\n",
        "tag_map = {}\n",
        "with open(path) as f:\n",
        "  for i, t in enumerate(f.read().splitlines()):\n",
        "    tag_map[t] = i+1\n"
      ],
      "execution_count": null,
      "outputs": []
    },
    {
      "cell_type": "code",
      "metadata": {
        "id": "gjhZJy0_Xwg9",
        "colab": {
          "base_uri": "https://localhost:8080/"
        },
        "outputId": "d604fa34-476c-40fe-b26b-83f63c3dede9"
      },
      "source": [
        "tag_map"
      ],
      "execution_count": null,
      "outputs": [
        {
          "output_type": "execute_result",
          "data": {
            "text/plain": [
              "{'B-art': 9,\n",
              " 'B-eve': 15,\n",
              " 'B-geo': 2,\n",
              " 'B-gpe': 3,\n",
              " 'B-nat': 14,\n",
              " 'B-org': 6,\n",
              " 'B-per': 4,\n",
              " 'B-tim': 8,\n",
              " 'I-art': 10,\n",
              " 'I-eve': 16,\n",
              " 'I-geo': 5,\n",
              " 'I-gpe': 12,\n",
              " 'I-nat': 17,\n",
              " 'I-org': 7,\n",
              " 'I-per': 11,\n",
              " 'I-tim': 13,\n",
              " 'O': 1}"
            ]
          },
          "metadata": {
            "tags": []
          },
          "execution_count": 83
        }
      ]
    },
    {
      "cell_type": "code",
      "metadata": {
        "id": "VoJTCe6lAlRV",
        "colab": {
          "base_uri": "https://localhost:8080/"
        },
        "outputId": "7f10257f-00ea-49b0-ec1d-aeed0f3d3fdc"
      },
      "source": [
        "print(train_sentences[2])\n",
        "print(train_labels[2])"
      ],
      "execution_count": null,
      "outputs": [
        {
          "output_type": "stream",
          "text": [
            "['They', 'marched', 'from', 'the', 'Houses', 'of', 'Parliament', 'to', 'a', 'rally', 'in', 'Hyde', 'Park', '.']\n",
            "['O', 'O', 'O', 'O', 'O', 'O', 'O', 'O', 'O', 'O', 'O', 'B-geo', 'I-geo', 'O']\n"
          ],
          "name": "stdout"
        }
      ]
    },
    {
      "cell_type": "code",
      "metadata": {
        "id": "vza3-4uW-Cvu"
      },
      "source": [
        ""
      ],
      "execution_count": null,
      "outputs": []
    },
    {
      "cell_type": "code",
      "metadata": {
        "id": "BQ5pNe-12s0T"
      },
      "source": [
        "PRE_TRAINED_MODEL_NAME = 'bert-base-cased'"
      ],
      "execution_count": null,
      "outputs": []
    },
    {
      "cell_type": "code",
      "metadata": {
        "id": "0Nop-ZivF_AY",
        "colab": {
          "base_uri": "https://localhost:8080/",
          "height": 66,
          "referenced_widgets": [
            "f6da0a8c4c62452da6f034c95a7dcc3e",
            "51628728c8f84b628eb75bf2e39e96da",
            "04b250a62d2d4a1eb4b018653ccdbe06",
            "dfd61403a6e64cc5b87f59321bf93b28",
            "eedf0bc7163847909a89502c4211c2b1",
            "3ddb94be058b4ae98e6f45853144b2fe",
            "e4df396994d64c029b7e3991249bcdfa",
            "325f671460fd427d8ac66671a4b86abf"
          ]
        },
        "outputId": "ae36d5b7-3124-4fad-b014-ec308e63b4d9"
      },
      "source": [
        "# Lets load pre-trained BertTokenizer\n",
        "\n",
        "tokenizer = BertTokenizer.from_pretrained(PRE_TRAINED_MODEL_NAME)"
      ],
      "execution_count": null,
      "outputs": [
        {
          "output_type": "display_data",
          "data": {
            "application/vnd.jupyter.widget-view+json": {
              "model_id": "f6da0a8c4c62452da6f034c95a7dcc3e",
              "version_minor": 0,
              "version_major": 2
            },
            "text/plain": [
              "HBox(children=(FloatProgress(value=0.0, description='Downloading', max=213450.0, style=ProgressStyle(descripti…"
            ]
          },
          "metadata": {
            "tags": []
          }
        },
        {
          "output_type": "stream",
          "text": [
            "\n"
          ],
          "name": "stdout"
        }
      ]
    },
    {
      "cell_type": "markdown",
      "metadata": {
        "id": "5Rx7ytdr7d_E"
      },
      "source": [
        "#### For each sentence and label lets create tokens using above tokenizer"
      ]
    },
    {
      "cell_type": "code",
      "metadata": {
        "id": "u4X7FtgUbMA6"
      },
      "source": [
        "def tokenize_sentence_label(sentence, labels):\n",
        "  tokenized_sentence = ['[CLS]']\n",
        "  tokenized_labels = ['[CLS]']\n",
        "\n",
        "  for word, label in zip(sentence, labels):\n",
        "    tokenized_word = tokenizer.tokenize(word)\n",
        "    #BERT tokenizer is based on Wordpiece tokenizer. It will split tokens into subword tokens. \n",
        "    #For example ‘gunships’ will be split in the two tokens ‘guns’ and ‘##hips’. Below we are dealing with the issue of splitting our token-level labels to related subtokens.\n",
        "    n_subwords = len(tokenized_word)                 \n",
        "\n",
        "    tokenized_sentence.extend(tokenized_word)\n",
        "    #Add same label to the new list of labels 'n_subwords' times\n",
        "    tokenized_labels.extend([label] * n_subwords)\n",
        "\n",
        "  tokenized_sentence.append('[SEP]')\n",
        "  tokenized_labels.append('[SEP]')\n",
        "  return tokenized_sentence, tokenized_labels\n"
      ],
      "execution_count": null,
      "outputs": []
    },
    {
      "cell_type": "code",
      "metadata": {
        "id": "mrNEN_-UY-u6"
      },
      "source": [
        "# Adding [SEP] and [CLS] tags to tag_map dictionary. BERT uses 101 and 102 for these two tokens. So lets use same\n",
        "\n",
        "tag_map['[CLS]'] = 18\n",
        "tag_map['[SEP]'] = 19\n",
        "tag_map['PAD'] = 0\n",
        "\n",
        "tags = list(tag_map.keys())\n",
        "\n",
        "tag_map_index = {j:i for i,j in tag_map.items()}\n"
      ],
      "execution_count": null,
      "outputs": []
    },
    {
      "cell_type": "code",
      "metadata": {
        "id": "L0z1Mk_tazXY"
      },
      "source": [
        "# Applying above 'tokenize_sentence_label' fn to entire dataset\n",
        "\n",
        "training_tokenized_texts_and_labels = [tokenize_sentence_label(sent, labs) for sent, labs in zip(train_sentences, train_labels)]\n",
        "valid_tokenized_texts_and_labels = [tokenize_sentence_label(sent, labs) for sent, labs in zip(valid_sentences, valid_labels)]\n",
        "test_tokenized_texts_and_labels = [tokenize_sentence_label(sent, labs) for sent, labs in zip(test_sentences, test_labels)]"
      ],
      "execution_count": null,
      "outputs": []
    },
    {
      "cell_type": "code",
      "metadata": {
        "id": "mRYzBkupbfQv"
      },
      "source": [
        "train_sentences = [token_label_pair[0] for token_label_pair in training_tokenized_texts_and_labels]\n",
        "train_labels = [token_label_pair[1] for token_label_pair in training_tokenized_texts_and_labels]\n",
        "\n",
        "valid_sentences = [token_label_pair[0] for token_label_pair in valid_tokenized_texts_and_labels]\n",
        "valid_labels = [token_label_pair[1] for token_label_pair in valid_tokenized_texts_and_labels]\n",
        "\n",
        "test_sentences = [token_label_pair[0] for token_label_pair in test_tokenized_texts_and_labels]\n",
        "test_labels = [token_label_pair[1] for token_label_pair in test_tokenized_texts_and_labels]"
      ],
      "execution_count": null,
      "outputs": []
    },
    {
      "cell_type": "code",
      "metadata": {
        "id": "K0D65gYeCzET"
      },
      "source": [
        "# train_sentences = [' '.join(i) for i in train_sentences]\n",
        "# train_labels = [' '.join(i) for i in train_labels]\n",
        "\n",
        "# valid_sentences = [' '.join(i) for i in valid_sentences]\n",
        "# valid_labels = [' '.join(i) for i in valid_labels]\n",
        "\n",
        "# test_sentences = [' '.join(i) for i in test_sentences]\n",
        "# test_labels = [' '.join(i) for i in test_labels]"
      ],
      "execution_count": null,
      "outputs": []
    },
    {
      "cell_type": "code",
      "metadata": {
        "id": "9jCX2rSptCtQ"
      },
      "source": [
        "# Create dataframes which we can use in future\n",
        "\n",
        "df_train = pd.DataFrame({'sentences':train_sentences,'labels':train_labels})\n",
        "df_valid = pd.DataFrame({'sentences':valid_sentences,'labels':valid_labels})\n",
        "df_test = pd.DataFrame({'sentences':test_sentences,'labels':test_labels})\n"
      ],
      "execution_count": null,
      "outputs": []
    },
    {
      "cell_type": "code",
      "metadata": {
        "id": "kG1wMfWz_Fle",
        "colab": {
          "base_uri": "https://localhost:8080/"
        },
        "outputId": "5798447e-3151-4fd5-cf1e-1ce47f49c5ee"
      },
      "source": [
        "df_train['sentences'].to_numpy()"
      ],
      "execution_count": null,
      "outputs": [
        {
          "output_type": "execute_result",
          "data": {
            "text/plain": [
              "array([list(['[CLS]', 'Thousands', 'of', 'demons', '##tra', '##tors', 'have', 'marched', 'through', 'London', 'to', 'protest', 'the', 'war', 'in', 'Iraq', 'and', 'demand', 'the', 'withdrawal', 'of', 'British', 'troops', 'from', 'that', 'country', '.', '[SEP]']),\n",
              "       list(['[CLS]', 'Families', 'of', 'soldiers', 'killed', 'in', 'the', 'conflict', 'joined', 'the', 'protesters', 'who', 'carried', 'banner', '##s', 'with', 'such', 'slogan', '##s', 'as', '\"', 'Bush', 'Number', 'One', 'Terror', '##ist', '\"', 'and', '\"', 'Stop', 'the', 'Bomb', '##ings', '.', '\"', '[SEP]']),\n",
              "       list(['[CLS]', 'They', 'marched', 'from', 'the', 'Houses', 'of', 'Parliament', 'to', 'a', 'rally', 'in', 'Hyde', 'Park', '.', '[SEP]']),\n",
              "       ...,\n",
              "       list(['[CLS]', 'Il', '##ya', 'Ko', '##val', '##chuk', 'scored', 'four', 'goals', 'Sunday', 'with', 'two', 'in', 'each', 'of', 'the', 'first', 'two', 'periods', '.', '[SEP]']),\n",
              "       list(['[CLS]', 'Russian', 'goaltender', 'E', '##v', '##gen', '##i', 'Na', '##bo', '##kov', 'posted', 'consecutive', 'shut', '##out', 'victories', 'over', 'Sweden', 'and', 'Kazakhstan', 'with', '48', 'saves', '.', '[SEP]']),\n",
              "       list(['[CLS]', 'Although', 'he', 'allowed', 'one', 'goal', 'by', 'Latvia', ',', 'he', 'faced', 'only', 'seven', 'shots', 'in', 'two', 'periods', 'before', 'being', 'replaced', 'by', 'his', 'back', '-', 'up', '.', '[SEP]'])],\n",
              "      dtype=object)"
            ]
          },
          "metadata": {
            "tags": []
          },
          "execution_count": 18
        }
      ]
    },
    {
      "cell_type": "code",
      "metadata": {
        "id": "3tgsWZhowAEn",
        "colab": {
          "base_uri": "https://localhost:8080/"
        },
        "outputId": "402fd93a-2e21-4a14-dd21-b01b60fd9556"
      },
      "source": [
        "df_train['sentences'].to_numpy()"
      ],
      "execution_count": null,
      "outputs": [
        {
          "output_type": "execute_result",
          "data": {
            "text/plain": [
              "array(['[CLS] Thousands of demons ##tra ##tors have marched through London to protest the war in Iraq and demand the withdrawal of British troops from that country . [SEP]',\n",
              "       '[CLS] Families of soldiers killed in the conflict joined the protesters who carried banner ##s with such slogan ##s as \" Bush Number One Terror ##ist \" and \" Stop the Bomb ##ings . \" [SEP]',\n",
              "       '[CLS] They marched from the Houses of Parliament to a rally in Hyde Park . [SEP]',\n",
              "       ...,\n",
              "       '[CLS] Il ##ya Ko ##val ##chuk scored four goals Sunday with two in each of the first two periods . [SEP]',\n",
              "       '[CLS] Russian goaltender E ##v ##gen ##i Na ##bo ##kov posted consecutive shut ##out victories over Sweden and Kazakhstan with 48 saves . [SEP]',\n",
              "       '[CLS] Although he allowed one goal by Latvia , he faced only seven shots in two periods before being replaced by his back - up . [SEP]'],\n",
              "      dtype=object)"
            ]
          },
          "metadata": {
            "tags": []
          },
          "execution_count": 74
        }
      ]
    },
    {
      "cell_type": "code",
      "metadata": {
        "id": "T5URk2m4oEDt",
        "colab": {
          "base_uri": "https://localhost:8080/"
        },
        "outputId": "005b38f4-53eb-4453-c3a1-abfd3df38ede"
      },
      "source": [
        "df_train['labels'].to_numpy()"
      ],
      "execution_count": null,
      "outputs": [
        {
          "output_type": "execute_result",
          "data": {
            "text/plain": [
              "array([list(['[CLS]', 'O', 'O', 'O', 'O', 'O', 'O', 'O', 'O', 'B-geo', 'O', 'O', 'O', 'O', 'O', 'B-geo', 'O', 'O', 'O', 'O', 'O', 'B-gpe', 'O', 'O', 'O', 'O', 'O', '[SEP]']),\n",
              "       list(['[CLS]', 'O', 'O', 'O', 'O', 'O', 'O', 'O', 'O', 'O', 'O', 'O', 'O', 'O', 'O', 'O', 'O', 'O', 'O', 'O', 'O', 'B-per', 'O', 'O', 'O', 'O', 'O', 'O', 'O', 'O', 'O', 'O', 'O', 'O', 'O', '[SEP]']),\n",
              "       list(['[CLS]', 'O', 'O', 'O', 'O', 'O', 'O', 'O', 'O', 'O', 'O', 'O', 'B-geo', 'I-geo', 'O', '[SEP]']),\n",
              "       ...,\n",
              "       list(['[CLS]', 'B-per', 'B-per', 'I-per', 'I-per', 'I-per', 'O', 'O', 'O', 'B-tim', 'O', 'O', 'O', 'O', 'O', 'O', 'O', 'O', 'O', 'O', '[SEP]']),\n",
              "       list(['[CLS]', 'B-gpe', 'O', 'B-per', 'B-per', 'B-per', 'B-per', 'I-per', 'I-per', 'I-per', 'O', 'O', 'O', 'O', 'O', 'O', 'B-org', 'I-org', 'I-org', 'O', 'O', 'O', 'O', '[SEP]']),\n",
              "       list(['[CLS]', 'O', 'O', 'O', 'O', 'O', 'O', 'B-geo', 'O', 'O', 'O', 'O', 'O', 'O', 'O', 'O', 'O', 'O', 'O', 'O', 'O', 'O', 'O', 'O', 'O', 'O', '[SEP]'])],\n",
              "      dtype=object)"
            ]
          },
          "metadata": {
            "tags": []
          },
          "execution_count": 229
        }
      ]
    },
    {
      "cell_type": "code",
      "metadata": {
        "id": "Y0s7ucYGd9Yo",
        "colab": {
          "base_uri": "https://localhost:8080/",
          "height": 333
        },
        "outputId": "6838697b-407d-46f1-90f8-82383acbacc2"
      },
      "source": [
        "# Choosing max sequence length since BERT works with fixed length sequences\n",
        "\n",
        "token_lens = []\n",
        "\n",
        "for txt in train_sentences:\n",
        "  token_lens.append(len(txt))\n",
        "\n",
        "# plot the distribution\n",
        "\n",
        "sns.distplot(token_lens)\n",
        "plt.xlabel('Token count');"
      ],
      "execution_count": null,
      "outputs": [
        {
          "output_type": "stream",
          "text": [
            "/usr/local/lib/python3.6/dist-packages/seaborn/distributions.py:2551: FutureWarning: `distplot` is a deprecated function and will be removed in a future version. Please adapt your code to use either `displot` (a figure-level function with similar flexibility) or `histplot` (an axes-level function for histograms).\n",
            "  warnings.warn(msg, FutureWarning)\n"
          ],
          "name": "stderr"
        },
        {
          "output_type": "display_data",
          "data": {
            "image/png": "[encoded data removed]",
            "text/plain": [
              "<Figure size 432x288 with 1 Axes>"
            ]
          },
          "metadata": {
            "tags": [],
            "needs_background": "light"
          }
        }
      ]
    },
    {
      "cell_type": "code",
      "metadata": {
        "id": "UZBhUNOhhIpM"
      },
      "source": [
        "# 99.99% of sentences have length <= 60. So will choose max_length as 60\n",
        "max_len = 60"
      ],
      "execution_count": null,
      "outputs": []
    },
    {
      "cell_type": "code",
      "metadata": {
        "id": "RwpO1bajcf0M"
      },
      "source": [
        "# # Now convert each token in to encoding. BERT uses 0 for padding so we also use same\n",
        "# train_sentences_encoded = pad_sequences([tokenizer.convert_tokens_to_ids(train_sentence) for train_sentence in train_sentences], maxlen = max_len, value = 0, truncating='post',padding='post')\n",
        "# train_labels_encoded = pad_sequences([[tag_map.get(l) for l in train_label] for train_label in train_labels], maxlen = max_len, value = 0, truncating='post',padding='post')"
      ],
      "execution_count": null,
      "outputs": []
    },
    {
      "cell_type": "code",
      "metadata": {
        "id": "v_IoO2FJlGyj"
      },
      "source": [
        "# Now lets create PyTorch dataset from all above building blocks\n",
        "\n",
        "class NERDataset(Dataset):\n",
        "  def __init__(self, sentences, labels, tokenizer, tag_map, max_len):\n",
        "    self.sentences = sentences\n",
        "    self.labels = labels\n",
        "    self.tokenizer = tokenizer\n",
        "    self.tag_map = tag_map\n",
        "    self.max_len = max_len\n",
        "\n",
        "  def __len__(self):\n",
        "    return len(self.sentences)\n",
        "\n",
        "  def __getitem__(self, item):\n",
        "    sentence = self.sentences[item]\n",
        "    label = self.labels[item]\n",
        "\n",
        "    # encoding = self.tokenizer.encode_plus(\n",
        "    #   tweet,\n",
        "    #   add_special_tokens=True,\n",
        "    #   max_length=self.max_len,\n",
        "    #   truncation = True,\n",
        "    #   return_token_type_ids=False,\n",
        "    #   padding='max_length',\n",
        "    #   return_attention_mask=True,\n",
        "    #   return_tensors='pt',\n",
        "    # )\n",
        "    #sentences_encoded = pad_sequences([tokenizer.convert_tokens_to_ids(train_sentence) for train_sentence in train_sentences], maxlen = max_len, value = 0, truncating='post',padding='post')\n",
        "    \n",
        "    # sentence = sentence.split(' ')\n",
        "    # label = label.split(' ')\n",
        "\n",
        "    sentence_encoded = pad_sequences([self.tokenizer.convert_tokens_to_ids(sentence)], maxlen = self.max_len, value = 0, truncating='post',padding='post')[0]\n",
        "    label_encoded = pad_sequences([[self.tag_map.get(l) for l in label]], maxlen = self.max_len, value = 0, truncating='post',padding='post')[0]\n",
        "\n",
        "    # attention mask\n",
        "    attention_mask = [float(i != 0.0) for i in sentence_encoded]\n",
        "\n",
        "\n",
        "    return {\n",
        "      'input_ids': sentence_encoded,\n",
        "      'attention_mask': np.array(attention_mask),\n",
        "      'targets': label_encoded\n",
        "    }\n"
      ],
      "execution_count": null,
      "outputs": []
    },
    {
      "cell_type": "code",
      "metadata": {
        "id": "M_l0Ka5_p5-v"
      },
      "source": [
        "# Now lets create dataloaders for our train, validation and test data\n",
        "\n",
        "def create_data_loader(df, tokenizer, tag_map, max_len, batch_size):\n",
        "  ds = NERDataset(\n",
        "    sentences=df['sentences'].to_numpy(),\n",
        "    labels=df['labels'].to_numpy(),\n",
        "    tokenizer=tokenizer,\n",
        "    max_len=max_len,\n",
        "    tag_map=tag_map\n",
        "  )\n",
        "  return DataLoader(\n",
        "    ds,\n",
        "    batch_size=batch_size,\n",
        "    num_workers=4\n",
        "  )\n",
        "\n",
        "batch_size = 16      # Bert recommendation\n",
        "\n",
        "train_data_loader = create_data_loader(df_train, tokenizer, tag_map, max_len, batch_size)\n",
        "valid_data_loader = create_data_loader(df_valid, tokenizer, tag_map, max_len, batch_size)\n",
        "test_data_loader = create_data_loader(df_test, tokenizer, tag_map, max_len, batch_size)\n"
      ],
      "execution_count": null,
      "outputs": []
    },
    {
      "cell_type": "code",
      "metadata": {
        "id": "tzYLQkjlyguL",
        "colab": {
          "base_uri": "https://localhost:8080/"
        },
        "outputId": "5b48cc74-8a81-4620-ac36-e6a07348a6b8"
      },
      "source": [
        "# Lets have a look at an example batch from our traning data\n",
        "\n",
        "data = next(iter(train_data_loader))\n",
        "\n",
        "print(data['input_ids'].shape)\n",
        "print(data['attention_mask'].shape)\n",
        "print(data['targets'].shape)"
      ],
      "execution_count": null,
      "outputs": [
        {
          "output_type": "stream",
          "text": [
            "torch.Size([16, 60])\n",
            "torch.Size([16, 60])\n",
            "torch.Size([16, 60])\n"
          ],
          "name": "stdout"
        }
      ]
    },
    {
      "cell_type": "code",
      "metadata": {
        "id": "J_qPgfheR6mF",
        "colab": {
          "base_uri": "https://localhost:8080/",
          "height": 214
        },
        "outputId": "0d6a9261-eca7-41c1-970b-b750c7435945"
      },
      "source": [
        "# The transformer package provides a BertForTokenClassification class for token-level predictions. \n",
        "# BertForTokenClassification is a fine-tuning model that wraps BertModel and adds token-level classifier on top of the BertModel.\n",
        "\n",
        "model = BertForTokenClassification.from_pretrained(\"bert-base-cased\", num_labels=len(tag_map), output_attentions = False, output_hidden_states = False)\n",
        "model.to(device)"
      ],
      "execution_count": null,
      "outputs": [
        {
          "output_type": "error",
          "ename": "NameError",
          "evalue": "ignored",
          "traceback": [
            "\u001b[0;31m---------------------------------------------------------------------------\u001b[0m",
            "\u001b[0;31mNameError\u001b[0m                                 Traceback (most recent call last)",
            "\u001b[0;32m<ipython-input-6-49feb8364c21>\u001b[0m in \u001b[0;36m<module>\u001b[0;34m()\u001b[0m\n\u001b[1;32m      2\u001b[0m \u001b[0;31m# BertForTokenClassification is a fine-tuning model that wraps BertModel and adds token-level classifier on top of the BertModel.\u001b[0m\u001b[0;34m\u001b[0m\u001b[0;34m\u001b[0m\u001b[0;34m\u001b[0m\u001b[0m\n\u001b[1;32m      3\u001b[0m \u001b[0;34m\u001b[0m\u001b[0m\n\u001b[0;32m----> 4\u001b[0;31m \u001b[0mmodel\u001b[0m \u001b[0;34m=\u001b[0m \u001b[0mBertForTokenClassification\u001b[0m\u001b[0;34m.\u001b[0m\u001b[0mfrom_pretrained\u001b[0m\u001b[0;34m(\u001b[0m\u001b[0;34m\"bert-base-cased\"\u001b[0m\u001b[0;34m,\u001b[0m \u001b[0mnum_labels\u001b[0m\u001b[0;34m=\u001b[0m\u001b[0mlen\u001b[0m\u001b[0;34m(\u001b[0m\u001b[0mtag_map\u001b[0m\u001b[0;34m)\u001b[0m\u001b[0;34m,\u001b[0m \u001b[0moutput_attentions\u001b[0m \u001b[0;34m=\u001b[0m \u001b[0;32mFalse\u001b[0m\u001b[0;34m,\u001b[0m \u001b[0moutput_hidden_states\u001b[0m \u001b[0;34m=\u001b[0m \u001b[0;32mFalse\u001b[0m\u001b[0;34m)\u001b[0m\u001b[0;34m\u001b[0m\u001b[0;34m\u001b[0m\u001b[0m\n\u001b[0m\u001b[1;32m      5\u001b[0m \u001b[0mmodel\u001b[0m\u001b[0;34m.\u001b[0m\u001b[0mto\u001b[0m\u001b[0;34m(\u001b[0m\u001b[0mdevice\u001b[0m\u001b[0;34m)\u001b[0m\u001b[0;34m\u001b[0m\u001b[0;34m\u001b[0m\u001b[0m\n",
            "\u001b[0;31mNameError\u001b[0m: name 'tag_map' is not defined"
          ]
        }
      ]
    },
    {
      "cell_type": "code",
      "metadata": {
        "id": "O_RmU7VyS3vQ"
      },
      "source": [
        "# BERT paper gave some recommendations on hyperparameters for fine tuning\n",
        "# Batch size: 16, 32\n",
        "\n",
        "# Adam learning rate: 5e-5, 3e-5, 2e-5\n",
        "\n",
        "# Number of epochs: 2,3,4\n",
        "\n",
        "# Will follow training procedure from BERT paper, will use AdamW optimizer from Hugging Face.\n",
        "\n",
        "EPOCHS = 7\n",
        "\n",
        "optimizer = AdamW(model.parameters(), lr = 3e-5)\n",
        "total_steps = len(train_data_loader) * EPOCHS\n",
        "\n",
        "scheduler = get_linear_schedule_with_warmup(\n",
        "  optimizer,\n",
        "  num_warmup_steps=0,\n",
        "  num_training_steps=total_steps\n",
        ")\n",
        "# loss_fn = nn.CrossEntropyLoss().to(device)"
      ],
      "execution_count": null,
      "outputs": []
    },
    {
      "cell_type": "markdown",
      "metadata": {
        "id": "Cap-t__vWuYN"
      },
      "source": [
        "## Training"
      ]
    },
    {
      "cell_type": "code",
      "metadata": {
        "id": "UZ6BvTtYSblM"
      },
      "source": [
        "# Use F score as metric\n",
        "\n",
        "def train_epoch(model, data_loader, optimizer, device, scheduler, n_examples):\n",
        "\n",
        "  model = model.train()\n",
        "  losses = []\n",
        "  predictions, true_labels = [], []\n",
        "\n",
        "  for d in data_loader:\n",
        "    input_ids = d[\"input_ids\"].type(torch.LongTensor)\n",
        "    attention_mask = d[\"attention_mask\"].type(torch.LongTensor)\n",
        "    targets = d[\"targets\"].type(torch.LongTensor)\n",
        "\n",
        "    input_ids = input_ids.to(device)\n",
        "    attention_mask = attention_mask.to(device)\n",
        "    targets = targets.to(device)\n",
        "\n",
        "    optimizer.zero_grad()\n",
        "    # Since we provided labels, loss will be returned\n",
        "    outputs = model(\n",
        "      input_ids=input_ids,\n",
        "      attention_mask=attention_mask,\n",
        "      labels = targets,\n",
        "    )\n",
        "\n",
        "    loss = outputs[0]\n",
        "    \n",
        "    # _, preds = torch.max(outputs, dim=1)                #Returns the max value of elements\n",
        "    # loss = loss_fn(outputs, targets)\n",
        "    # correct_predictions += torch.sum(preds == targets)\n",
        "    # precision.update((outputs, targets))\n",
        "    # recall.update((outputs, targets))\n",
        "\n",
        "    \n",
        "    loss.backward()\n",
        "    losses.append(loss.item())\n",
        "    nn.utils.clip_grad_norm_(model.parameters(), max_norm=1.0)\n",
        "    optimizer.step()\n",
        "    scheduler.step()\n",
        "\n",
        "    # Move logits and labels to CPU\n",
        "    logits = outputs[1].detach().cpu().numpy()\n",
        "    label_ids = targets.to('cpu').numpy()\n",
        "\n",
        "    predictions.extend([list(p) for p in np.argmax(logits, axis=2)])\n",
        "    true_labels.extend(label_ids)\n",
        "\n",
        "  pred_tags = [tag_map_index.get(p_i) for p, l in zip(predictions, true_labels) for p_i, l_i in zip(p, l) if tag_map_index.get(l_i) != \"PAD\" if tag_map_index.get(l_i) != \"[CLS]\" if tag_map_index.get(l_i) != \"[SEP]\"]\n",
        "  train_tags = [tag_map_index.get(l_i) for l in true_labels for l_i in l if tag_map_index.get(l_i) != \"PAD\" if tag_map_index.get(l_i) != \"[CLS]\" if tag_map_index.get(l_i) != \"[SEP]\"]\n",
        "\n",
        "\n",
        "  return accuracy_score(pred_tags,train_tags), np.mean(losses)"
      ],
      "execution_count": null,
      "outputs": []
    },
    {
      "cell_type": "code",
      "metadata": {
        "id": "lWTibtvNXNft"
      },
      "source": [
        "# validation\n",
        "\n",
        "def eval_model(model, data_loader, device, n_examples):\n",
        "  model = model.eval()\n",
        "  losses = []\n",
        "  predictions, true_labels = [], []\n",
        "\n",
        "  with torch.no_grad():\n",
        "    for d in data_loader:\n",
        "      input_ids = d[\"input_ids\"].type(torch.LongTensor)\n",
        "      attention_mask = d[\"attention_mask\"].type(torch.LongTensor)\n",
        "      targets = d[\"targets\"].type(torch.LongTensor)\n",
        "\n",
        "      input_ids = input_ids.to(device)\n",
        "      attention_mask = attention_mask.to(device)\n",
        "      targets = targets.to(device)\n",
        "\n",
        "      outputs = model(\n",
        "        input_ids=input_ids,\n",
        "        attention_mask=attention_mask,\n",
        "        labels = targets\n",
        "      )\n",
        "\n",
        "      # Move logits and labels to CPU\n",
        "      logits = outputs[1].detach().cpu().numpy()\n",
        "      label_ids = targets.to('cpu').numpy()\n",
        "\n",
        "      loss = outputs[0]\n",
        "      losses.append(loss.item())\n",
        "\n",
        "      predictions.extend([list(p) for p in np.argmax(logits, axis=2)])\n",
        "      true_labels.extend(label_ids)\n",
        "\n",
        "      # correct_predictions += torch.sum(preds == targets)\n",
        "\n",
        "    pred_tags = [tag_map_index.get(p_i) for p, l in zip(predictions, true_labels) for p_i, l_i in zip(p, l) if tag_map_index.get(l_i) != \"PAD\" if tag_map_index.get(l_i) != \"[CLS]\" if tag_map_index.get(l_i) != \"[SEP]\"]\n",
        "    valid_tags = [tag_map_index.get(l_i) for l in true_labels for l_i in l if tag_map_index.get(l_i) != \"PAD\" if tag_map_index.get(l_i) != \"[CLS]\" if tag_map_index.get(l_i) != \"[SEP]\"]\n",
        "\n",
        "\n",
        "  return accuracy_score(pred_tags,valid_tags), np.mean(losses)"
      ],
      "execution_count": null,
      "outputs": []
    },
    {
      "cell_type": "code",
      "metadata": {
        "id": "3Zn1RtN24Ioo",
        "colab": {
          "base_uri": "https://localhost:8080/"
        },
        "outputId": "aa5c28f0-111b-4576-888d-44925ff66fa1"
      },
      "source": [
        "%%time\n",
        "# Lets define our training loop using above two functions\n",
        "# standard block\n",
        "# used F2 score as metric here\n",
        "history = defaultdict(list)\n",
        "\n",
        "best_acc = 0\n",
        "\n",
        "for epoch in range(EPOCHS):\n",
        "\n",
        "  print(f'Epoch {epoch + 1}/{EPOCHS}')\n",
        "  print('-' * 10)\n",
        "\n",
        "  train_acc, train_loss = train_epoch(model, train_data_loader, optimizer, device, scheduler, len(df_train))\n",
        "\n",
        "  print(f'Train loss {train_loss} Accuracy {train_acc}')\n",
        "\n",
        "  val_acc, val_loss = eval_model(model, valid_data_loader, device, len(df_valid))\n",
        "\n",
        "  print(f'Val   loss {val_loss} Accuracy {val_acc}')\n",
        "  print()\n",
        "\n",
        "  history['train_acc'].append(train_acc)\n",
        "  history['train_loss'].append(train_loss)\n",
        "  history['val_acc'].append(val_acc)\n",
        "  history['val_loss'].append(val_loss)\n",
        "\n",
        "  if val_acc > best_acc:\n",
        "    torch.save(model.state_dict(), 'best_model_state_f4.bin')\n",
        "    best_acc = val_acc\n",
        "\n",
        "# We are storing state of best model indicated by highest validation f2 score\n",
        "\n"
      ],
      "execution_count": null,
      "outputs": [
        {
          "output_type": "stream",
          "text": [
            "Epoch 1/7\n",
            "----------\n",
            "Train loss 0.19048863865080334 Accuracy 0.9438985029204393\n",
            "Val   loss 0.12555314246979024 Accuracy 0.9564364918524377\n",
            "\n",
            "Epoch 2/7\n",
            "----------\n",
            "Train loss 0.10581909507158256 Accuracy 0.96342480577661\n",
            "Val   loss 0.11667962126847771 Accuracy 0.9595944617446274\n",
            "\n",
            "Epoch 3/7\n",
            "----------\n",
            "Train loss 0.0803628679728579 Accuracy 0.9711618433737217\n",
            "Val   loss 0.12572518319719367 Accuracy 0.9604292642204757\n",
            "\n",
            "Epoch 4/7\n",
            "----------\n",
            "Train loss 0.061379296270066074 Accuracy 0.9777458272687749\n",
            "Val   loss 0.13307341173291207 Accuracy 0.9614288303428732\n",
            "\n",
            "Epoch 5/7\n",
            "----------\n",
            "Train loss 0.048201257089330325 Accuracy 0.9823686747443434\n",
            "Val   loss 0.14385871404781939 Accuracy 0.9605171381653018\n",
            "\n",
            "Epoch 6/7\n",
            "----------\n",
            "Train loss 0.038823820604454905 Accuracy 0.9858975388919343\n",
            "Val   loss 0.1537818128367265 Accuracy 0.9605995199885764\n",
            "\n",
            "Epoch 7/7\n",
            "----------\n",
            "Train loss 0.03344552994738998 Accuracy 0.9880158025064741\n",
            "Val   loss 0.1594290725679861 Accuracy 0.9615496570170091\n",
            "\n",
            "CPU times: user 20min 10s, sys: 7min 22s, total: 27min 32s\n",
            "Wall time: 27min 44s\n"
          ],
          "name": "stdout"
        }
      ]
    },
    {
      "cell_type": "code",
      "metadata": {
        "id": "KAQxVzXK9-bm",
        "colab": {
          "base_uri": "https://localhost:8080/",
          "height": 306
        },
        "outputId": "fd8dd8cc-9a70-449e-9617-babf40fef4ce"
      },
      "source": [
        "plt.plot(history['train_acc'], label='train acc')\n",
        "plt.plot(history['val_acc'], label='validation acc')\n",
        "plt.title('Training history')\n",
        "plt.ylabel('Accuracy')\n",
        "plt.xlabel('Epoch')\n",
        "plt.legend()\n",
        "plt.ylim([0, 1]);"
      ],
      "execution_count": null,
      "outputs": [
        {
          "output_type": "display_data",
          "data": {
            "image/png": "[encoded data removed]",
            "text/plain": [
              "<Figure size 432x288 with 1 Axes>"
            ]
          },
          "metadata": {
            "tags": [],
            "image/png": {
              "width": 397,
              "height": 289
            },
            "needs_background": "light"
          }
        }
      ]
    },
    {
      "cell_type": "code",
      "metadata": {
        "id": "vx-Dex30_KJ1",
        "colab": {
          "base_uri": "https://localhost:8080/"
        },
        "outputId": "562933e7-efcf-4757-dd1c-5843f3b1a108"
      },
      "source": [
        "# Lets calculate score on test data\n",
        "\n",
        "test_acc, _ = eval_model(model, test_data_loader, device, len(df_test))\n",
        "\n",
        "print(test_acc)"
      ],
      "execution_count": null,
      "outputs": [
        {
          "output_type": "stream",
          "text": [
            "0.9624842686743365\n"
          ],
          "name": "stdout"
        }
      ]
    },
    {
      "cell_type": "code",
      "metadata": {
        "id": "4jhhmNGvWbht",
        "colab": {
          "base_uri": "https://localhost:8080/",
          "height": 220,
          "referenced_widgets": [
            "62cd0f32b51f4fa0a47c9579fd257d0a",
            "b88f16bc8b0c44758c03af157c17695c",
            "c8d8ebc17ff54059a0fb677b03648ddd",
            "072e111f261246658022564074c065e9",
            "5dbc5803d6b84d2392acec456b4b46ea",
            "90334990b03e4c74b50f36b9df7f7d6f",
            "0216748a598c4cf182f744fb15ea79f6",
            "8ab91bb3ed6f4f51bf33a2b58bb6a813",
            "55bcaf0ad89046a7ab642298e5ec7c65",
            "b4c359b7ce0147d1991b1213423a80bb",
            "702411de5dff49909df7d2797566825a",
            "7f38fba49229455f91f3ffc91237cae3",
            "a1d4915f4f2c45d5963444fd1e3c2f30",
            "29a3793ca4e441cdb25ff46493d59a51",
            "77cebd0e8bc7450fb1243b18583619de",
            "69b0c5ccddb649db981e59df31b2acaa"
          ]
        },
        "outputId": "1a7be00a-14bc-4e11-9a8d-6bb727e076fb"
      },
      "source": [
        "# alternative\n",
        "path1 = \"/content/drive/My Drive/NER Training data/best_model_state_f2.bin\"\n",
        "\n",
        "model = BertForTokenClassification.from_pretrained(\"bert-base-cased\", num_labels=20, output_attentions = False, output_hidden_states = False)\n",
        "model.load_state_dict(torch.load(path1))\n",
        "\n",
        "model = model.to(device)"
      ],
      "execution_count": null,
      "outputs": [
        {
          "output_type": "display_data",
          "data": {
            "application/vnd.jupyter.widget-view+json": {
              "model_id": "62cd0f32b51f4fa0a47c9579fd257d0a",
              "version_minor": 0,
              "version_major": 2
            },
            "text/plain": [
              "HBox(children=(FloatProgress(value=0.0, description='Downloading', max=433.0, style=ProgressStyle(description_…"
            ]
          },
          "metadata": {
            "tags": []
          }
        },
        {
          "output_type": "stream",
          "text": [
            "\n"
          ],
          "name": "stdout"
        },
        {
          "output_type": "display_data",
          "data": {
            "application/vnd.jupyter.widget-view+json": {
              "model_id": "55bcaf0ad89046a7ab642298e5ec7c65",
              "version_minor": 0,
              "version_major": 2
            },
            "text/plain": [
              "HBox(children=(FloatProgress(value=0.0, description='Downloading', max=435779157.0, style=ProgressStyle(descri…"
            ]
          },
          "metadata": {
            "tags": []
          }
        },
        {
          "output_type": "stream",
          "text": [
            "\n"
          ],
          "name": "stdout"
        },
        {
          "output_type": "stream",
          "text": [
            "Some weights of the model checkpoint at bert-base-cased were not used when initializing BertForTokenClassification: ['cls.predictions.bias', 'cls.predictions.transform.dense.weight', 'cls.predictions.transform.dense.bias', 'cls.predictions.decoder.weight', 'cls.seq_relationship.weight', 'cls.seq_relationship.bias', 'cls.predictions.transform.LayerNorm.weight', 'cls.predictions.transform.LayerNorm.bias']\n",
            "- This IS expected if you are initializing BertForTokenClassification from the checkpoint of a model trained on another task or with another architecture (e.g. initializing a BertForSequenceClassification model from a BertForPreTraining model).\n",
            "- This IS NOT expected if you are initializing BertForTokenClassification from the checkpoint of a model that you expect to be exactly identical (initializing a BertForSequenceClassification model from a BertForSequenceClassification model).\n",
            "Some weights of BertForTokenClassification were not initialized from the model checkpoint at bert-base-cased and are newly initialized: ['classifier.weight', 'classifier.bias']\n",
            "You should probably TRAIN this model on a down-stream task to be able to use it for predictions and inference.\n"
          ],
          "name": "stderr"
        }
      ]
    },
    {
      "cell_type": "code",
      "metadata": {
        "id": "II15yId6_oNA"
      },
      "source": [
        "# Apply model to new sentence\n",
        "\n",
        "new_sentence = \"\"\"Show me science fiction films directed by Steven Spielberg\"\"\""
      ],
      "execution_count": null,
      "outputs": []
    },
    {
      "cell_type": "code",
      "metadata": {
        "id": "EmrxAsEIAaNz"
      },
      "source": [
        "# Tokenizing the sentence\n",
        "tokenized_sentence = tokenizer.encode(new_sentence)\n",
        "\n",
        "input_id = torch.tensor([tokenized_sentence]).to(device)"
      ],
      "execution_count": null,
      "outputs": []
    },
    {
      "cell_type": "code",
      "metadata": {
        "id": "z4jjPxFEDYh5"
      },
      "source": [
        "# Let run sentence through model\n",
        "\n",
        "with torch.no_grad():\n",
        "  output = model(input_id)\n",
        "\n",
        "labels = np.argmax(output[0].to('cpu').numpy(),axis = 2)"
      ],
      "execution_count": null,
      "outputs": []
    },
    {
      "cell_type": "code",
      "metadata": {
        "id": "gktrcI1cA5pr"
      },
      "source": [
        "# Now we need to convert back these id's to actual labels\n",
        "\n",
        "# First lets convert input_id back to actual english sentence\n",
        "\n",
        "tokens = tokenizer.convert_ids_to_tokens(input_id.to('cpu').numpy()[0])\n",
        "\n",
        "new_tokens, new_labels = [], []\n",
        "\n",
        "for token, label in zip(tokens, labels[0]):\n",
        "  if token.startswith('##'):\n",
        "    new_tokens[-1] =  new_tokens[-1] + token[2:]\n",
        "  \n",
        "  else:\n",
        "    new_labels.append(tag_map_index.get(label))\n",
        "    new_tokens.append(token)\n"
      ],
      "execution_count": null,
      "outputs": []
    },
    {
      "cell_type": "code",
      "metadata": {
        "id": "Ps2bq_bxHN9s",
        "colab": {
          "base_uri": "https://localhost:8080/"
        },
        "outputId": "3b82a115-eae9-46e8-ecfb-359e4fe7bf1f"
      },
      "source": [
        "for token, label in zip(new_tokens, new_labels):\n",
        "  print(\"{}\\t{}\".format(label, token))"
      ],
      "execution_count": null,
      "outputs": [
        {
          "output_type": "stream",
          "text": [
            "[CLS]\t[CLS]\n",
            "O\tShow\n",
            "O\tme\n",
            "O\tscience\n",
            "O\tfiction\n",
            "O\tfilms\n",
            "O\tdirected\n",
            "O\tby\n",
            "B-per\tSteven\n",
            "I-per\tSpielberg\n",
            "[SEP]\t[SEP]\n"
          ],
          "name": "stdout"
        }
      ]
    },
    {
      "cell_type": "code",
      "metadata": {
        "id": "ipRxP8jbwWNk"
      },
      "source": [
        "# function to load data for error analysis\n",
        "\n",
        "def get_params(sentences_file, labels_file):\n",
        "    sentences = []\n",
        "    labels = []\n",
        "\n",
        "    with open(sentences_file) as f:\n",
        "        for sentence in f.read().splitlines():\n",
        "            # # replace each token by its index if it is in vocab\n",
        "            # # else use index of UNK_WORD\n",
        "            # s = [vocab[token] if token in vocab \n",
        "            #      else vocab['UNK']\n",
        "            #      for token in sentence.split(' ')]\n",
        "            sentences.append(sentence)\n",
        "\n",
        "    with open(labels_file) as f:\n",
        "        for label in f.read().splitlines():\n",
        "            # # replace each label by its index\n",
        "            # l = [tag_map[label] for label in sentence.split(' ')] # I added plus 1 here\n",
        "            labels.append(label) \n",
        "    return sentences, labels, len(sentences)\n",
        "\n",
        "path1 = \"/content/drive/My Drive/NER Validation data/sentences.txt\"\n",
        "path2 = \"/content/drive/My Drive/NER Validation data/labels.txt\"\n",
        "\n",
        "valid_sentences, valid_labels, valid_len = get_params(path1,path2)\n",
        "\n",
        "for i in valid_labels:\n",
        "  "
      ],
      "execution_count": null,
      "outputs": []
    },
    {
      "cell_type": "code",
      "metadata": {
        "colab": {
          "base_uri": "https://localhost:8080/"
        },
        "id": "7iSK2zg63Umg",
        "outputId": "54656050-bb74-40c0-cf99-7b13a0291268"
      },
      "source": [
        "# Error analysis on validation data\n",
        "\n",
        "print(' '.join(valid_sentences[0][1:-1]))\n",
        "print(valid_labels[0][1:-1])\n",
        "\n",
        "# Tokenizing the sentence\n",
        "tokenized_sentence = tokenizer.convert_tokens_to_ids(valid_sentences[0])\n",
        "\n",
        "input_id = torch.tensor([tokenized_sentence]).to(device)\n",
        "\n",
        "# Let run sentence through model\n",
        "\n",
        "with torch.no_grad():\n",
        "  output = model(input_id)\n",
        "\n",
        "labels = np.argmax(output[0].to('cpu').numpy(),axis = 2)\n",
        "\n",
        "# Now we need to convert back these id's to actual labels\n",
        "\n",
        "# First lets convert input_id back to actual english sentence\n",
        "\n",
        "tokens = tokenizer.convert_ids_to_tokens(input_id.to('cpu').numpy()[0])\n",
        "\n",
        "new_tokens, new_labels = [], []\n",
        "\n",
        "for token, label in zip(tokens, labels[0]):\n",
        "  if token == '[CLS]' or token == '[SEP]':\n",
        "\t\t\tcontinue\n",
        "  if token.startswith('##'):\n",
        "    new_tokens[-1] =  new_tokens[-1] + token[2:]\n",
        "  \n",
        "  else:\n",
        "    new_labels.append(tag_map_index.get(label))\n",
        "    new_tokens.append(token)\n",
        "\n",
        "print(new_labels)"
      ],
      "execution_count": null,
      "outputs": [
        {
          "output_type": "stream",
          "text": [
            "Russia ' s victory put the eight - time Olympic champions into the quarterfinals and also clinched a spot for Sweden .\n",
            "['B-geo', 'O', 'O', 'O', 'O', 'O', 'O', 'O', 'O', 'O', 'O', 'O', 'O', 'O', 'O', 'O', 'O', 'O', 'O', 'O', 'B-org', 'O']\n",
            "['B-geo', 'O', 'O', 'O', 'O', 'O', 'O', 'O', 'O', 'O', 'O', 'O', 'O', 'O', 'O', 'O', 'O', 'O', 'O', 'O', 'B-org', 'O']\n"
          ],
          "name": "stdout"
        }
      ]
    },
    {
      "cell_type": "code",
      "metadata": {
        "id": "5FivGZLwFXKa",
        "colab": {
          "base_uri": "https://localhost:8080/"
        },
        "outputId": "c5ade296-a5e8-4f0c-a8d5-07e6f2658f56"
      },
      "source": [
        "# Error analysis on validation data\n",
        "\n",
        "print(valid_sentences[0])\n",
        "print(valid_labels[0].split(' '))\n",
        "\n",
        "# Tokenizing the sentence\n",
        "tokenized_sentence = tokenizer.convert_tokens_to_ids(valid_sentences[0])\n",
        "\n",
        "input_id = torch.tensor([tokenized_sentence]).to(device)\n",
        "\n",
        "# Let run sentence through model\n",
        "\n",
        "with torch.no_grad():\n",
        "  output = model(input_id)\n",
        "\n",
        "labels = np.argmax(output[0].to('cpu').numpy(),axis = 2)\n",
        "\n",
        "# Now we need to convert back these id's to actual labels\n",
        "\n",
        "# First lets convert input_id back to actual english sentence\n",
        "\n",
        "tokens = tokenizer.convert_ids_to_tokens(input_id.to('cpu').numpy()[0])\n",
        "\n",
        "new_tokens, new_labels = [], []\n",
        "\n",
        "for token, label in zip(tokens, labels[0]):\n",
        "  if token == '[CLS]' or token == '[SEP]':\n",
        "\t\t\tcontinue\n",
        "  if token.startswith('##'):\n",
        "    new_tokens[-1] =  new_tokens[-1] + token[2:]\n",
        "  \n",
        "  else:\n",
        "    new_labels.append(tag_map_index.get(label))\n",
        "    new_tokens.append(token)\n",
        "\n",
        "print(new_labels)"
      ],
      "execution_count": null,
      "outputs": [
        {
          "output_type": "stream",
          "text": [
            "Russia 's victory put the eight-time Olympic champions into the quarterfinals and also clinched a spot for Sweden .\n",
            "['B-geo', 'O', 'O', 'O', 'O', 'O', 'O', 'O', 'O', 'O', 'O', 'O', 'O', 'O', 'O', 'O', 'O', 'B-org', 'O']\n",
            "['B-geo', 'O', 'O', 'O', 'O', 'O', 'O', 'O', 'O', 'O', 'O', 'O', 'O', 'O', 'O', 'O', 'O', 'O', 'O', 'O', 'B-org', 'O']\n"
          ],
          "name": "stdout"
        }
      ]
    },
    {
      "cell_type": "code",
      "metadata": {
        "id": "T6j2CapSAG1n",
        "colab": {
          "base_uri": "https://localhost:8080/",
          "height": 35
        },
        "outputId": "06b41275-749b-4172-a9db-ee51a5359d96"
      },
      "source": [
        "valid_labels[0]"
      ],
      "execution_count": null,
      "outputs": [
        {
          "output_type": "execute_result",
          "data": {
            "application/vnd.google.colaboratory.intrinsic+json": {
              "type": "string"
            },
            "text/plain": [
              "'B-geo O O O O O O O O O O O O O O O O B-org O'"
            ]
          },
          "metadata": {
            "tags": []
          },
          "execution_count": 44
        }
      ]
    },
    {
      "cell_type": "code",
      "metadata": {
        "colab": {
          "base_uri": "https://localhost:8080/"
        },
        "id": "IErs6HrWzGjN",
        "outputId": "f29dac1a-aaef-4af1-9feb-81cb8c3ff376"
      },
      "source": [
        "tokenizer.convert_tokens_to_ids(valid_sentences[0])"
      ],
      "execution_count": null,
      "outputs": [
        {
          "output_type": "execute_result",
          "data": {
            "text/plain": [
              "[101,\n",
              " 2733,\n",
              " 112,\n",
              " 188,\n",
              " 2681,\n",
              " 1508,\n",
              " 1103,\n",
              " 2022,\n",
              " 118,\n",
              " 1159,\n",
              " 3557,\n",
              " 5461,\n",
              " 1154,\n",
              " 1103,\n",
              " 15388,\n",
              " 1105,\n",
              " 1145,\n",
              " 23782,\n",
              " 170,\n",
              " 3205,\n",
              " 1111,\n",
              " 3865,\n",
              " 119,\n",
              " 102]"
            ]
          },
          "metadata": {
            "tags": []
          },
          "execution_count": 59
        }
      ]
    },
    {
      "cell_type": "code",
      "metadata": {
        "colab": {
          "base_uri": "https://localhost:8080/",
          "height": 35
        },
        "id": "aETIXm6j1Qkl",
        "outputId": "6385f03c-6fd2-4739-bf7a-2a3b6224eee4"
      },
      "source": [
        "'Russia'.upper()"
      ],
      "execution_count": null,
      "outputs": [
        {
          "output_type": "execute_result",
          "data": {
            "application/vnd.google.colaboratory.intrinsic+json": {
              "type": "string"
            },
            "text/plain": [
              "'RUSSIA'"
            ]
          },
          "metadata": {
            "tags": []
          },
          "execution_count": 90
        }
      ]
    },
    {
      "cell_type": "code",
      "metadata": {
        "id": "LpL47vDqGTfR"
      },
      "source": [
        ""
      ],
      "execution_count": null,
      "outputs": []
    }
  ]
}